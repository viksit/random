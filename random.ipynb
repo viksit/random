{
 "cells": [
  {
   "cell_type": "code",
   "execution_count": null,
   "metadata": {
    "collapsed": false
   },
   "outputs": [],
   "source": [
    "\"\"\"\n",
    "For this question, you'll use the full text for \"The Brothers Karamazov\". You can get it from the Gutenberg  Project at http://www.gutenberg.org/files/28054/28054-0.txt\n",
    "\n",
    "\n",
    "What is the longest word in the book? [5 points]\n",
    "\n",
    "Pad all words in the book with the remainder from the longest word until they are the same length as the longest one (so if the longest word is \"equivalent\", and \"cart\" is in the set, \"cart\" will become \"cartvalent\". If there are multiple longest words with the same length, choose one). [5 points]\n",
    "\n",
    "After padding, provide a list of all unique anagrams in the resulting set, ignoring capitalization. An anagram is defined as a word that has the same characters as another word (\"anagram\" and \"mangara\" are anagrams). [25 points]\n",
    "\n",
    "Optimize your code. Provide code and comparisons of running time between the two versions. Make it as fast as you can. [20 points]\n",
    "\"\"\"\n"
   ]
  },
  {
   "cell_type": "code",
   "execution_count": 1,
   "metadata": {
    "collapsed": false
   },
   "outputs": [],
   "source": [
    "import requests\n",
    "import codecs\n",
    "\n",
    "#data = open(\"/mnt/data/tmp/28054-0.txt\").read()\n",
    "d = requests.get(\"http://www.gutenberg.org/files/28054/28054-0.txt\")\n",
    "data = data.text\n",
    "\n",
    "\n"
   ]
  },
  {
   "cell_type": "code",
   "execution_count": 17,
   "metadata": {
    "collapsed": false
   },
   "outputs": [],
   "source": [
    "import string\n",
    "from collections import Counter\n",
    "import re\n",
    "lines = data.splitlines()\n",
    "clean_data = []\n",
    "exclude = set(string.punctuation)\n",
    "all_tokens = []\n",
    "\n",
    "for l in lines:\n",
    "    # Remove whitespace and lowercase it\n",
    "    l1 = l.lower().lstrip().rstrip()\n",
    "    # Remove punctuation\n",
    "    l2 = ''.join(ch for ch in l1 if ch not in exclude)\n",
    "    l3 = re.sub(r'[^\\x00-\\x7F]+',' ', l2)\n",
    "    res = l3\n",
    "    if res is not None and len(res):\n",
    "        clean_data.append(res)\n",
    "\n",
    "    # Tokenize it\n",
    "    line_tokens = res.split()\n",
    "\n",
    "    # Store only non http things\n",
    "    for lt in line_tokens:\n",
    "        if not lt.startswith(\"http\"):\n",
    "            all_tokens.append(lt)\n",
    "\n",
    "            \n",
    "# Deduplicated by putting into set\n",
    "all_token_set = set(all_tokens)\n",
    "        "
   ]
  },
  {
   "cell_type": "code",
   "execution_count": 49,
   "metadata": {
    "collapsed": false
   },
   "outputs": [
    {
     "name": "stdout",
     "output_type": "stream",
     "text": [
      "['trademarkcopyright', 'characteristically', 'disinterestedness', 'sanctimoniousness', 'irresponsiveness', 'incomprehensible', 'incorruptibility', 'susceptibilities', 'superciliousness', 'unenforceability']\n"
     ]
    }
   ],
   "source": [
    "import random\n",
    "\n",
    "# Back into list\n",
    "tokenlist = list(all_token_set)\n",
    "\n",
    "# Sort\n",
    "s = sorted(tokenlist, key=len, reverse=True)\n",
    "print s[:10]\n",
    "\n",
    " \n",
    "# What is the longest word in the book? [5 points]\n",
    "# Answer\n",
    "longest_word = \"characteristically\"\n",
    "\n",
    "\n"
   ]
  },
  {
   "cell_type": "code",
   "execution_count": 48,
   "metadata": {
    "collapsed": false
   },
   "outputs": [
    {
     "name": "stdout",
     "output_type": "stream",
     "text": [
      "Sample of padded words:  ['strengthristically', 'chemisteristically', 'babyisheristically', 'personneristically', 'bedsacteristically', 'depressionstically', 'sparedteristically', 'perfectibilityally', 'sentimentaltically', 'dismissesistically']\n"
     ]
    }
   ],
   "source": [
    "# Pad all words in the book with the remainder from the longest word until they are the same length as the longest one (so if the longest word is \"equivalent\", and \"cart\" is in the set, \"cart\" will become \"cartvalent\". If there are multiple longest words with the same length, choose one). [5 points]\n",
    "\n",
    "lw = longest_word\n",
    "all_words = s\n",
    "\n",
    "# Find the length of word, and only choose characters from\n",
    "# lw from there till the end, and concatenate them together\n",
    "def padWithWord(w, lw):\n",
    "    return \"{w}{lw}\".format(w=w, lw=lw[len(w):])\n",
    "\n",
    "# Apply this to all words\n",
    "all_words_padded = map(lambda x: padWithWord(x, lw), all_words)\n",
    "\n",
    "print \"Sample of padded words: \", random.sample(all_words_padded, 10)\n"
   ]
  },
  {
   "cell_type": "code",
   "execution_count": 51,
   "metadata": {
    "collapsed": false
   },
   "outputs": [
    {
     "name": "stdout",
     "output_type": "stream",
     "text": [
      "List of all unique anagrams is anagrams.keys()\n",
      "Sample:  ['aaacceiillmmmrstty', 'aaccillllnpsttuuyy', 'aceeiilllmnrsstuyy', 'aceeefiillrrstttuy', 'aceiiilllloprsstwy', 'aceiilllorssttvvyy', 'acehiillmnorssttty', 'aacdeeiillnrrrssty', 'aaceeiiillrrssttty', 'aacceeiillnrsttvyy']\n",
      "\n",
      "Number of unique anagrams is :  11095\n",
      "Number of total padded words is :  12305\n"
     ]
    }
   ],
   "source": [
    "# After padding, provide a list of all unique anagrams in the resulting set, ignoring capitalization. An anagram is defined as a word that has the same characters as another word (\"anagram\" and \"mangara\" are anagrams). [25 points]\n",
    "\n",
    "# Hash map\n",
    "anagrams = {}\n",
    "for w in all_words_padded:\n",
    "    # Sort each word by characters\n",
    "    sorted_string = \"\".join(sorted(w))\n",
    "    # Store in hash map\n",
    "    if sorted_string in anagrams:\n",
    "        anagrams[sorted_string].append(w)\n",
    "    else:\n",
    "        anagrams[sorted_string] = []\n",
    "\n",
    "# Answer\n",
    "print \"List of all unique anagrams is anagrams.keys()\"\n",
    "print \"Sample: \", random.sample(anagrams, 10)\n",
    "print\n",
    "print \"Number of unique anagrams is : \", len(anagrams.keys())\n",
    "print \"Number of total padded words is : \", len(all_words_padded)\n",
    "\n"
   ]
  },
  {
   "cell_type": "code",
   "execution_count": null,
   "metadata": {
    "collapsed": false
   },
   "outputs": [],
   "source": []
  }
 ],
 "metadata": {
  "kernelspec": {
   "display_name": "Python 2",
   "language": "python",
   "name": "python2"
  },
  "language_info": {
   "codemirror_mode": {
    "name": "ipython",
    "version": 2
   },
   "file_extension": ".py",
   "mimetype": "text/x-python",
   "name": "python",
   "nbconvert_exporter": "python",
   "pygments_lexer": "ipython2",
   "version": "2.7.9"
  },
  "name": "emerald.ipynb"
 },
 "nbformat": 4,
 "nbformat_minor": 0
}
